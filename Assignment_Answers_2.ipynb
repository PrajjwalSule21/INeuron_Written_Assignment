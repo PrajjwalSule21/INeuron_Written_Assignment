{
 "cells": [
  {
   "cell_type": "markdown",
   "metadata": {},
   "source": [
    "### 1.What are the two values of the Boolean data type? How do you write them?\n",
    "#### Ans) There are two types of Boolean Data type one is True and other one is False. It is used to represent the truth value of an expression. like (2 > 1) is True expression and (1 == 2) is False expression , so it will give the result of given expression's in boolean data type. We can use this data type in conditional statments, in loops , in functions , in classes like every where in python if we want to known the turth value of the expression so will use Boolean datatype. Syntax of Boolean datatype is simple we have to write True or False. That's it.\n",
    "    "
   ]
  },
  {
   "cell_type": "code",
   "execution_count": 6,
   "metadata": {},
   "outputs": [
    {
     "name": "stdout",
     "output_type": "stream",
     "text": [
      "False\n",
      "True\n",
      "<class 'bool'>\n",
      "Boolean Datatype\n",
      "Boolean Datatype\n",
      "Boolean Datatype\n",
      "Boolean Datatype\n",
      "Boolean Datatype\n"
     ]
    }
   ],
   "source": [
    "# example:\n",
    "print(1==2)\n",
    "print(2>1)\n",
    "\n",
    "print(type(True))\n",
    "\n",
    "i = 1\n",
    "while True:           # it will give an infinite loop\n",
    "    print('Boolean Datatype')\n",
    "    i = i+1\n",
    "    if i>5:           # this condition is for break the loop\n",
    "        break\n",
    "        "
   ]
  },
  {
   "cell_type": "markdown",
   "metadata": {},
   "source": [
    "### 2. What are the three different types of Boolean operators?\n",
    "#### Ans. The AND operator ( && or “and” )\n",
    "#### The OR operator ( || or “or” )\n",
    "#### The NOT operator ( not )"
   ]
  },
  {
   "cell_type": "markdown",
   "metadata": {},
   "source": [
    "### 3. Make a list of each Boolean operator's truth tables (i.e. every possible combination of Boolean values for the operator and what it evaluate ).\n",
    "\n",
    "### Ans. AND operator truth table\n",
    "#### False   False   ->  False\n",
    "#### False  True      -> False\n",
    "#### True    False    -> False\n",
    "####  True   True      -> True\n",
    "####\n",
    "### OR operator truth table\n",
    "####  False   False   ->  False\n",
    "#### False  True      ->  True\n",
    "#### True    False    ->  True\n",
    "####  True   True      ->  True\n",
    "####\n",
    "### NOT oprator truth table\n",
    "#### False  -> True\n",
    "#### True   -> False\n"
   ]
  },
  {
   "cell_type": "markdown",
   "metadata": {},
   "source": [
    "### 4. What are the values of the following expressions?\n",
    "### (5 > 4) and (3 == 5)\n",
    "##### Ans. False, because in AND operator both condtions have to be true, if one condition is true and the other is false so the answer is False.\n",
    "\n",
    "### not (5 > 4)\n",
    "##### Ans. False, because the condition is true but we use NOT operator so it will convert true into false.\n",
    "\n",
    "### (5 > 4) or (3 == 5)\n",
    "##### Ans. True, because in OR operator anyone condtion have to be true, if one condition is true and the other is false so the answer is True always.\n",
    "\n",
    "### not ((5 > 4) or (3 == 5))\n",
    "##### Ans. False, even the condition of bracket one is true and we use OR operator inside the bracket and we know in OR operator if anyone condition is ture so the answer of OR operator is true but we use NOT operator outside those brackets so it will convert the true value into False.\n",
    "\n",
    "### (True and True) and (True == False)\n",
    "##### Ans. False, because we use AND operator and we know how AND operator works. Like both the conditions have to be true but this expression not fullfill the AND operator requirments.\n",
    "\n",
    "### (not False) or (not True)\n",
    "##### Ans. True, because of OR operator.\n"
   ]
  },
  {
   "cell_type": "markdown",
   "metadata": {},
   "source": [
    "### 5. What are the six comparison operators?\n",
    "#### Ans.  > (less than)\n",
    "#### < (greater than)\n",
    "#### >= (less than equal to)\n",
    "#### <= (greater then equal to)\n",
    "#### == (equal to) \n",
    "#### !== (not equal to)"
   ]
  },
  {
   "cell_type": "markdown",
   "metadata": {},
   "source": [
    "### 6. How do you tell the difference between the equal to and assignment operators? Describe a condition and when you would use one.\n",
    "### Ans. The equal to operator represent through the double equal to sign like == and the  assignment operator looks like a equal to sign like = . And if we talk about the functionality of this operators so, the equal operator use to check the condition whether the value is equal to or not. and on the other hand assignment operators used to assign the values to varibles. \n",
    "#### Assignment operators \n",
    "### name = 'Ineuron' , in this we assign a string 'Ineuron' in the name variable.\n",
    "\n",
    "#### Equal to operator\n",
    "### name == 'Data Science' , in this we check the name variable to the string 'Data Science'."
   ]
  },
  {
   "cell_type": "markdown",
   "metadata": {},
   "source": [
    "### 7. Identify the three blocks in this code:\n",
    "#### spam = 0\n",
    "#### if spam == 10:\n",
    "####     print('eggs')\n",
    "#### if spam > 5:\n",
    "####     print('bacon')\n",
    "#### else:\n",
    "####     print('ham')\n",
    "####     print('spam')\n",
    "####     print('spam')\n",
    "##### 1. we assign int 0 to spam variable.\n",
    "##### 2. we check the conditon through if statment like if spam is equal to 10 so print eggs, We know this block will not execute its operation because spam contains 0 and 0 is not equals to 10.\n",
    "##### 3. we check another condition like if spam is greater than 5 so print bacon, We know this block  will also not execute becasue 0 is less than 5. \n",
    "##### 4. now else block will execute its operations because if no other blocks executed than the else block will execute and give the output and in this else block we will get ham spam spam on our screen.\n",
    "\n"
   ]
  },
  {
   "cell_type": "markdown",
   "metadata": {},
   "source": [
    "### 8. Write code that prints Hello if 1 is stored in spam, prints Howdy if 2 is stored in spam, and prints Greetings! if anything else is stored in spam.\n",
    "\n"
   ]
  },
  {
   "cell_type": "code",
   "execution_count": null,
   "metadata": {},
   "outputs": [],
   "source": [
    "# Ans8. \n",
    "spam = int(input('Enter 1-5 number here: '))    # asking a user for their refrence\n",
    "if spam == 1:\n",
    "    print('Hello')\n",
    "elif spam == 2:\n",
    "    print('Howdy')\n",
    "else:\n",
    "    print('Greetings!')"
   ]
  },
  {
   "cell_type": "markdown",
   "metadata": {},
   "source": [
    "### 9.If your programme is stuck in an endless loop, what keys you’ll press?\n",
    "#### Ans. I will press CTRL + C to exit out of inifinite loop."
   ]
  },
  {
   "cell_type": "markdown",
   "metadata": {},
   "source": [
    "### 10. How can you tell the difference between break and continue?\n",
    "#### Ans. Break is used to stop the  loop, if we use break keyword in our loop so this will stop the loop at a point where break has been executed and continue keyword is used for to start the loop form there start point."
   ]
  },
  {
   "cell_type": "markdown",
   "metadata": {},
   "source": [
    "### 11. In a for loop, what is the difference between range(10), range(0, 10), and range(0, 10, 1)?\n",
    "#### Ans. range function is define the range or scope of out statement.\n",
    "#### 1. range(10) : means execute the condition from 0 to 9 indexing point.\n",
    "#### 2. range(0,10) : it means also same the first argument is included means out program start from 0 and second argument is excluded means (n-1) so our program will run to 9th index position.\n",
    "#### 3. range(0,10,1) : it means our program will run from 0-9 but it will incremented by 1 on each iteration.\n",
    "#### All three range function gives same output."
   ]
  },
  {
   "cell_type": "markdown",
   "metadata": {},
   "source": [
    "### 12. Write a short program that prints the numbers 1 to 10 using a for loop. Then write an equivalent program that prints the numbers 1 to 10 using a while loop."
   ]
  },
  {
   "cell_type": "code",
   "execution_count": 11,
   "metadata": {},
   "outputs": [
    {
     "name": "stdout",
     "output_type": "stream",
     "text": [
      "0\n",
      "1\n",
      "2\n",
      "3\n",
      "4\n",
      "5\n",
      "6\n",
      "7\n",
      "8\n",
      "9\n",
      "10\n",
      "-----------------------------------------------\n",
      "0\n",
      "1\n",
      "2\n",
      "3\n",
      "4\n",
      "5\n",
      "6\n",
      "7\n",
      "8\n",
      "9\n",
      "10\n"
     ]
    }
   ],
   "source": [
    "# Ans.\n",
    "# for loop\n",
    "\n",
    "for i in range(11):\n",
    "    print(i)\n",
    "    \n",
    "print('-----------------------------------------------') # a divider\n",
    "\n",
    "#while loop\n",
    "a = 0\n",
    "while a<=10:\n",
    "    print(a)\n",
    "    a = a + 1\n",
    "    "
   ]
  },
  {
   "cell_type": "markdown",
   "metadata": {},
   "source": [
    "### 13. If you had a function named bacon() inside a module named spam, how would you call it after importing spam?\n",
    "#### Ans. import spam\n",
    "####  spam.bacon()"
   ]
  }
 ],
 "metadata": {
  "kernelspec": {
   "display_name": "Python 3",
   "language": "python",
   "name": "python3"
  },
  "language_info": {
   "codemirror_mode": {
    "name": "ipython",
    "version": 3
   },
   "file_extension": ".py",
   "mimetype": "text/x-python",
   "name": "python",
   "nbconvert_exporter": "python",
   "pygments_lexer": "ipython3",
   "version": "3.7.6"
  }
 },
 "nbformat": 4,
 "nbformat_minor": 4
}
