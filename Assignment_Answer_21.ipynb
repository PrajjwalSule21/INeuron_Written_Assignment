{
 "cells": [
  {
   "cell_type": "markdown",
   "metadata": {},
   "source": [
    "### 1. Add the current date to the text file today.txt as a string."
   ]
  },
  {
   "cell_type": "code",
   "execution_count": 1,
   "metadata": {},
   "outputs": [
    {
     "name": "stdout",
     "output_type": "stream",
     "text": [
      "22-09-2021\n"
     ]
    }
   ],
   "source": [
    "import datetime\n",
    "# Code to Add current date to the today.txt file\n",
    "file = open('today.txt','w')\n",
    "file.write(datetime.datetime.now().strftime(\"%d-%m-%Y\"))\n",
    "file.close()\n",
    "# Code to Read current date from today.txt file\n",
    "file = open('today.txt','r')\n",
    "print(file.read())\n",
    "file.close()"
   ]
  },
  {
   "cell_type": "markdown",
   "metadata": {},
   "source": [
    "### 2. Read the text file today.txt into the string today_string"
   ]
  },
  {
   "cell_type": "code",
   "execution_count": 2,
   "metadata": {},
   "outputs": [
    {
     "name": "stdout",
     "output_type": "stream",
     "text": [
      "22-09-2021\n"
     ]
    }
   ],
   "source": [
    "file = open('today.txt','r')\n",
    "today_string = file.read()\n",
    "print(today_string)"
   ]
  },
  {
   "cell_type": "markdown",
   "metadata": {},
   "source": [
    "### 3. Parse the date from today_string."
   ]
  },
  {
   "cell_type": "code",
   "execution_count": 3,
   "metadata": {},
   "outputs": [
    {
     "name": "stdout",
     "output_type": "stream",
     "text": [
      "2021-09-22 00:00:00\n"
     ]
    }
   ],
   "source": [
    "from datetime import datetime\n",
    "parsed_data = datetime.strptime(today_string, '%d-%m-%Y')\n",
    "print(parsed_data)"
   ]
  },
  {
   "cell_type": "markdown",
   "metadata": {},
   "source": [
    "### 4. List the files in your current directory"
   ]
  },
  {
   "cell_type": "code",
   "execution_count": 4,
   "metadata": {},
   "outputs": [
    {
     "name": "stdout",
     "output_type": "stream",
     "text": [
      "01.Assignment_01.ipynb\n",
      "02.Assignment_02.ipynb\n",
      "03.Assignment_03.ipynb\n",
      "04.Assignment_04.ipynb\n",
      "05.Assignment_05.ipynb\n",
      "06.Assignment_06.ipynb\n",
      "07.Assignment_07.ipynb\n",
      "08.Assignment_08.ipynb\n",
      "09.Assignment_09.ipynb\n",
      "10.Assignment_10.ipynb\n",
      "11.Assignment_11.ipynb\n",
      "12.Assignment_12.ipynb\n",
      "13.Assignment_13.ipynb\n",
      "14.Assignment_14.ipynb\n",
      "15.Assignment_15.ipynb\n",
      "16.Assignment_16.ipynb\n",
      "17.Assignment_17.ipynb\n",
      "18.Assignment_18.ipynb\n",
      "19.Assignment_19.ipynb\n",
      "20.Assignment_20.ipynb\n",
      "21.Assignment_21.ipynb\n",
      "22.Assignment_22.ipynb\n",
      "23.Assignment_23.ipynb\n",
      "24.Assignment_24.ipynb\n",
      "25.Assignment_25.ipynb\n",
      "today.txt\n",
      "21.Assignment_21-checkpoint.ipynb\n",
      "22.Assignment_22-checkpoint.ipynb\n",
      "23.Assignment_23-checkpoint.ipynb\n",
      "24.Assignment_24-checkpoint.ipynb\n",
      "25.Assignment_25-checkpoint.ipynb\n"
     ]
    }
   ],
   "source": [
    "import os\n",
    "for folders, subfolders, files in os.walk(os.getcwd()):\n",
    "    for file in files:\n",
    "        print(file)"
   ]
  },
  {
   "cell_type": "markdown",
   "metadata": {},
   "source": [
    "### 5. Create a list of all of the files in your parent directory (minimum five files should be available)."
   ]
  },
  {
   "cell_type": "code",
   "execution_count": 5,
   "metadata": {},
   "outputs": [
    {
     "data": {
      "text/plain": [
       "['.ipynb_checkpoints',\n",
       " '01.Assignment_01.ipynb',\n",
       " '02.Assignment_02.ipynb',\n",
       " '03.Assignment_03.ipynb',\n",
       " '04.Assignment_04.ipynb',\n",
       " '05.Assignment_05.ipynb',\n",
       " '06.Assignment_06.ipynb',\n",
       " '07.Assignment_07.ipynb',\n",
       " '08.Assignment_08.ipynb',\n",
       " '09.Assignment_09.ipynb',\n",
       " '10.Assignment_10.ipynb',\n",
       " '11.Assignment_11.ipynb',\n",
       " '12.Assignment_12.ipynb',\n",
       " '13.Assignment_13.ipynb',\n",
       " '14.Assignment_14.ipynb',\n",
       " '15.Assignment_15.ipynb',\n",
       " '16.Assignment_16.ipynb',\n",
       " '17.Assignment_17.ipynb',\n",
       " '18.Assignment_18.ipynb',\n",
       " '19.Assignment_19.ipynb',\n",
       " '20.Assignment_20.ipynb',\n",
       " '21.Assignment_21.ipynb',\n",
       " '22.Assignment_22.ipynb',\n",
       " '23.Assignment_23.ipynb',\n",
       " '24.Assignment_24.ipynb',\n",
       " '25.Assignment_25.ipynb',\n",
       " 'today.txt']"
      ]
     },
     "execution_count": 5,
     "metadata": {},
     "output_type": "execute_result"
    }
   ],
   "source": [
    "import os \n",
    "os.listdir()"
   ]
  },
  {
   "cell_type": "markdown",
   "metadata": {},
   "source": [
    "### 6. Create a date object of your day of birth."
   ]
  },
  {
   "cell_type": "code",
   "execution_count": 7,
   "metadata": {},
   "outputs": [
    {
     "name": "stdout",
     "output_type": "stream",
     "text": [
      "1997-04-22 00:00:00 <class 'datetime.datetime'>\n"
     ]
    }
   ],
   "source": [
    "from datetime import datetime\n",
    "my_dob = datetime.strptime('22/04/1997','%d/%m/%Y')\n",
    "print(my_dob, type(my_dob))"
   ]
  },
  {
   "cell_type": "markdown",
   "metadata": {},
   "source": [
    "### 7. What day of the week was your day of birth?"
   ]
  },
  {
   "cell_type": "code",
   "execution_count": 8,
   "metadata": {},
   "outputs": [
    {
     "data": {
      "text/plain": [
       "'Tuesday'"
      ]
     },
     "execution_count": 8,
     "metadata": {},
     "output_type": "execute_result"
    }
   ],
   "source": [
    "from datetime import datetime\n",
    "my_dob = datetime(1997,4,22)\n",
    "my_dob.strftime(\"%A\")"
   ]
  },
  {
   "cell_type": "markdown",
   "metadata": {},
   "source": [
    "### 8. When will you be (or when were you) 10,000 days old?"
   ]
  },
  {
   "cell_type": "code",
   "execution_count": 9,
   "metadata": {},
   "outputs": [
    {
     "data": {
      "text/plain": [
       "datetime.datetime(1969, 12, 5, 0, 0)"
      ]
     },
     "execution_count": 9,
     "metadata": {},
     "output_type": "execute_result"
    }
   ],
   "source": [
    "from datetime import datetime, timedelta\n",
    "my_dob = datetime.strptime(\"22/04/1997\",'%d/%m/%Y')\n",
    "future_date = my_dob-timedelta(10000)\n",
    "future_date"
   ]
  }
 ],
 "metadata": {
  "kernelspec": {
   "display_name": "Python 3",
   "language": "python",
   "name": "python3"
  },
  "language_info": {
   "codemirror_mode": {
    "name": "ipython",
    "version": 3
   },
   "file_extension": ".py",
   "mimetype": "text/x-python",
   "name": "python",
   "nbconvert_exporter": "python",
   "pygments_lexer": "ipython3",
   "version": "3.7.6"
  }
 },
 "nbformat": 4,
 "nbformat_minor": 5
}
