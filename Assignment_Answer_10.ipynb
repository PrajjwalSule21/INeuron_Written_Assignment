{
 "cells": [
  {
   "cell_type": "markdown",
   "metadata": {},
   "source": [
    "### 1. How do you distinguish between shutil.copy() and shutil.copytree()?\n",
    "#### Ans: 'shutil.copy()' method is used to copy the contents of a file from one file to another file/folder, it primary takes two arguments 'src','dest', 'src' represents the file to be copied where as destination refers to the file/folder to where the 'src' data should be copied, if 'dest' is a folder name the 'src' with exact name will be copied to the 'dest' folder, if its a file then the contents of 'src' will be copied to 'dest' where 'dest' retains it name.\n",
    "\n",
    "#### 'shutil.copytree()' function is used to copy the entire contents of a folder to other folder. it also takes two arguments 'src' & 'dest', it copies all the content recursively and stores it in 'dest'. the important catch here is 'dest' must not exist prior to this and it will be created during the copy operation. Permissions and times of directories are copied with 'shutil.copystat()' and individual files are copied using 'shutil.copy2()' by default which can be modified using 'copy_function' attribute.\n"
   ]
  },
  {
   "cell_type": "markdown",
   "metadata": {},
   "source": [
    "### 2. What function is used to rename files??\n",
    "#### Ans: 'os.rename()' function is used to rename files or directories using a python program, this function takes two arguments 'src' and 'dest', 'src' represents the name file/directory which we want to rename, whereas 'dest' represents the new name of the file/directory."
   ]
  },
  {
   "cell_type": "markdown",
   "metadata": {},
   "source": [
    "### 3. What is the difference between the delete functions in the send2trash and shutil modules?\n",
    "#### Ans:Shutil module provides a funciton called as 'shutil.rmtree()' which deletes a directory and all its contents. The other functions with similar functionality are 'os.remove()' --> removes a file, 'os.rmdir()' removes a empty directory. The problem with these functions is once a file is deleted. it will be lost permanently, if a file is deleted accidentally using these methods there is no way we can recover the deleted file\n",
    "\n",
    "#### Where as 'send2trash' module provides a function called 'send2trash.send2trash()' to delete a file/directory. These methods moves the files/directories to trash folder instead of permanently deleting them. hence if a file/folder is deleted accidentally it can be still recovered from trash folder, if is deleted using the 'send2trash.send2trash()' function. 'send2trash' is not included with python standard libary like 'os' & 'shutil' modules."
   ]
  },
  {
   "cell_type": "markdown",
   "metadata": {},
   "source": [
    "### 4.ZipFile objects have a close() method just like File objects’ close() method. What ZipFile method is equivalent to File objects’ open() method?\n",
    "#### Ans: ZipFile Module provides a method called as 'zipfile.ZipFile()' to read and write to zipFiles. it takes arugments lile filename and mode etc 'zipfile.ZipFile('filename', mode = 'r')'"
   ]
  },
  {
   "cell_type": "markdown",
   "metadata": {},
   "source": [
    "### 5. Create a programme that searches a folder tree for files with a certain file extension (such as .pdf or .jpg). Copy these files from whatever location they are in to a new folder"
   ]
  },
  {
   "cell_type": "code",
   "execution_count": 2,
   "metadata": {},
   "outputs": [],
   "source": [
    "import os\n",
    "import shutil\n",
    "\n",
    "def search_copy(source,destination,extensions):\n",
    "    source = os.path.abspath(source)\n",
    "    destination = os.path.abspath(destination)\n",
    "    for foldername, subfolder, filenames in os.walk(source):\n",
    "        print(f'Folder Name --> {foldername}',end='\\n\\n')\n",
    "        print(f'Sub Folders --> {subfolder}',end='\\n\\n')\n",
    "        print(f'Files --> {filenames}',end='\\n\\n')\n",
    "        for filename in filenames:\n",
    "            fileName,extension = os.path.splitext(filename)\n",
    "            if extension in extensions:\n",
    "                targetFile = foldername + os.path.sep + fileName + extension\n",
    "                shutil.copy(targetFile, destination)\n",
    "        print(f'Files copied successfully from {source} to {destination}')\n"
   ]
  },
  {
   "cell_type": "code",
   "execution_count": 5,
   "metadata": {},
   "outputs": [
    {
     "name": "stdout",
     "output_type": "stream",
     "text": [
      "Folder Name ➞ C:\\Users\\HP\\Ineuron_Assignment\\Python\\Python_Basic_Written_Assignments\n",
      "\n",
      "Sub Folders ➞ ['.ipynb_checkpoints']\n",
      "\n",
      "Files ➞ ['.ipynb', '11.Assignment_11.ipynb', '12.Assignment_12.ipynb', '13.Assignment_13.ipynb', '14.Assignment_14.ipynb', '15.Assignment_15.ipynb', '16.Assignment_16.ipynb', '17.Assignment_17.ipynb', '18.Assignment_18.ipynb', '19.Assignment_19.ipynb', '20.Assignment_20.ipynb', '21.Assignment_21.ipynb', '22.Assignment_22.ipynb', '23.Assignment_23.ipynb', '24.Assignment_24.ipynb', '25.Assignment_25.ipynb', 'Assignment_Answers_2.ipynb', 'Assignment_Answers_3.ipynb', 'Assignment_Answers_4.ipynb', 'Assignment_Answer_10.ipynb', 'Assignment_Answer_5.ipynb', 'Assignment_Answer_6.ipynb', 'Assignment_Answer_7.ipynb', 'Assignment_Answer_8.ipynb', 'Assignment_Answer_9.ipynb']\n",
      "\n",
      "Files copied successfully from C:\\Users\\HP\\Ineuron_Assignment\\Python\\Python_Basic_Written_Assignments to C:\\Users\\HP\\Ineuron_Assignment\\Python\n",
      "Folder Name ➞ C:\\Users\\HP\\Ineuron_Assignment\\Python\\Python_Basic_Written_Assignments\\.ipynb_checkpoints\n",
      "\n",
      "Sub Folders ➞ []\n",
      "\n",
      "Files ➞ ['Assignment_Answer_10-checkpoint.ipynb', 'Assignment_Answer_5-checkpoint.ipynb', 'Assignment_Answer_8-checkpoint.ipynb', 'Assignment_Answer_9-checkpoint.ipynb']\n",
      "\n",
      "Files copied successfully from C:\\Users\\HP\\Ineuron_Assignment\\Python\\Python_Basic_Written_Assignments to C:\\Users\\HP\\Ineuron_Assignment\\Python\n",
      "None\n"
     ]
    }
   ],
   "source": [
    "extensions = ['.pdf','.jpg','.ipynb']\n",
    "source = r'C:\\Users\\HP\\Ineuron_Assignment\\Python\\Python_Basic_Written_Assignments'\n",
    "destination = r'C:\\Users\\HP\\Ineuron_Assignment\\Python'\n",
    "print(search_and_copy(source, destination, extensions))"
   ]
  },
  {
   "cell_type": "code",
   "execution_count": null,
   "metadata": {},
   "outputs": [],
   "source": []
  }
 ],
 "metadata": {
  "kernelspec": {
   "display_name": "Python 3",
   "language": "python",
   "name": "python3"
  },
  "language_info": {
   "codemirror_mode": {
    "name": "ipython",
    "version": 3
   },
   "file_extension": ".py",
   "mimetype": "text/x-python",
   "name": "python",
   "nbconvert_exporter": "python",
   "pygments_lexer": "ipython3",
   "version": "3.7.6"
  }
 },
 "nbformat": 4,
 "nbformat_minor": 5
}
