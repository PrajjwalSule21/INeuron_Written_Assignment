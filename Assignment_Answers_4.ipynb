{
 "cells": [
  {
   "cell_type": "markdown",
   "metadata": {},
   "source": [
    "### Q-1) What exactly is []?\n",
    "#### Ans. This square brackets is used to represent the list in Python, and if we use blank sqaure bracket's [] like this so, this will represent an empty list. And if we want any item in it, so we can insert or append the items in this list and perform various operations on it."
   ]
  },
  {
   "cell_type": "markdown",
   "metadata": {},
   "source": [
    "### Q-2) In a list of values stored in a variable called spam, how would you assign the value 'hello' as the third value? (Assume [2, 4, 6, 8, 10] are in spam.)\n",
    "#### Ans. If we want to add some value to desire position so, in this case we use insert method, in this method we have to give two arguments like first one is for the index value or we can say our desired position and the second is our value. According to question third position is represent by 2 index value."
   ]
  },
  {
   "cell_type": "code",
   "execution_count": 1,
   "metadata": {},
   "outputs": [
    {
     "data": {
      "text/plain": [
       "[2, 4, 'hello', 6, 8, 10]"
      ]
     },
     "execution_count": 1,
     "metadata": {},
     "output_type": "execute_result"
    }
   ],
   "source": [
    "# Q-2 example\n",
    "spam = [2, 4, 6, 8, 10]\n",
    "spam.insert(2,'hello')\n",
    "spam"
   ]
  },
  {
   "cell_type": "markdown",
   "metadata": {},
   "source": [
    "## spam = ['a', 'b', 'c', 'd']\n",
    "\n",
    "### Q-3) What is the value of spam[int(int('3' * 2) / 11)]?\n",
    "#### Ans. In this expression we can see the second bracket having string value as a 3, according to BODMAS it will execute the inner bracket first and we get '33' in string form but we use type casting here so that '33' will became the integer of 33 and this 33 will divided by 11 so our final answer is 3, and in this given expression we can see there is indexing of spam[], and after this mathematical function we get spam[3], which indicated the 3rd index value from spam list. And the third value is 'd'."
   ]
  },
  {
   "cell_type": "code",
   "execution_count": 2,
   "metadata": {},
   "outputs": [
    {
     "data": {
      "text/plain": [
       "'d'"
      ]
     },
     "execution_count": 2,
     "metadata": {},
     "output_type": "execute_result"
    }
   ],
   "source": [
    "# Q-3 example\n",
    "spam = ['a', 'b', 'c', 'd']\n",
    "spam[int(int('3' * 2) / 11)]"
   ]
  },
  {
   "cell_type": "markdown",
   "metadata": {},
   "source": [
    "## spam = ['a', 'b', 'c', 'd']\n",
    "\n",
    "### Q-4) What is the value of spam[-1]?\n",
    "#### Ans. In this we also get the 'd' from spam because if we use 0 so it indicates the first value of list, it will run from left to right as well if we use -1 so it will indicated the last value of list or we can said that it (negative indexing) will run from right to left."
   ]
  },
  {
   "cell_type": "code",
   "execution_count": 3,
   "metadata": {},
   "outputs": [
    {
     "data": {
      "text/plain": [
       "'d'"
      ]
     },
     "execution_count": 3,
     "metadata": {},
     "output_type": "execute_result"
    }
   ],
   "source": [
    "# Q-4 exapmle\n",
    "spam = ['a', 'b', 'c', 'd']\n",
    "spam[-1]"
   ]
  },
  {
   "cell_type": "markdown",
   "metadata": {},
   "source": [
    "## spam = ['a', 'b', 'c', 'd']\n",
    "\n",
    "### Q-5) What is the value of spam[:2]?\n",
    "#### Ans. This phenomena called as slicing and in this expression we call the index values of list, but we give one condition here like we call index value form 0 to 2, there one more things which is important like it will not run to 2nd index position bcause in slicing the second argument is excluded which means it will run only 0-1, and we get ['a', 'b'] in a form of list as well. If we don't give the first argument so program will consider that as a 0. "
   ]
  },
  {
   "cell_type": "code",
   "execution_count": 4,
   "metadata": {},
   "outputs": [
    {
     "data": {
      "text/plain": [
       "['a', 'b']"
      ]
     },
     "execution_count": 4,
     "metadata": {},
     "output_type": "execute_result"
    }
   ],
   "source": [
    "# Q-5 example\n",
    "spam = ['a', 'b', 'c', 'd']\n",
    "spam[:2]"
   ]
  },
  {
   "cell_type": "markdown",
   "metadata": {},
   "source": [
    "## bacon = [3.14, 'cat', 11, 'cat', True] \n",
    "\n",
    "### Q-6) What is the value of bacon.index('cat')?\n",
    "#### Ans. This index method will give us the index value of item, it will give 1. There are two 'cat' but the index value only ecounter the first item, like if the condition is satisfied once so it will not go further."
   ]
  },
  {
   "cell_type": "code",
   "execution_count": 5,
   "metadata": {},
   "outputs": [
    {
     "data": {
      "text/plain": [
       "1"
      ]
     },
     "execution_count": 5,
     "metadata": {},
     "output_type": "execute_result"
    }
   ],
   "source": [
    "# Q-6 exapmle \n",
    "bacon = [3.14, 'cat', 11, 'cat', True] \n",
    "bacon.index('cat')"
   ]
  },
  {
   "cell_type": "markdown",
   "metadata": {},
   "source": [
    "## bacon = [3.14, 'cat', 11, 'cat', True]\n",
    "\n",
    "### Q-7) How does bacon.append(99) change the look of the list value in bacon?\n",
    "#### Ans. Append method add the element in last of list, or we can said that it will add the method sequentially, and after append(99) our list looks like [3.14, 'cat', 11, 'cat', True, 99]"
   ]
  },
  {
   "cell_type": "code",
   "execution_count": 6,
   "metadata": {},
   "outputs": [
    {
     "data": {
      "text/plain": [
       "[3.14, 'cat', 11, 'cat', True, 99]"
      ]
     },
     "execution_count": 6,
     "metadata": {},
     "output_type": "execute_result"
    }
   ],
   "source": [
    "# Q-7 exapmle \n",
    "bacon = [3.14, 'cat', 11, 'cat', True] \n",
    "bacon.append(99)\n",
    "bacon"
   ]
  },
  {
   "cell_type": "markdown",
   "metadata": {},
   "source": [
    "## bacon = [3.14, 'cat', 11, 'cat', True]\n",
    "\n",
    "### Q-8) How does bacon.remove('cat') change the look of the list in bacon?\n",
    "#### Ans. It will remove the first 'cat' item from the bacon list. There are two 'cat' but the remove method only ecounter the first item, like if the condition is satisfied once so it will not go further."
   ]
  },
  {
   "cell_type": "code",
   "execution_count": 7,
   "metadata": {},
   "outputs": [
    {
     "data": {
      "text/plain": [
       "[3.14, 11, 'cat', True]"
      ]
     },
     "execution_count": 7,
     "metadata": {},
     "output_type": "execute_result"
    }
   ],
   "source": [
    "# Q-8 exapmle \n",
    "bacon = [3.14, 'cat', 11, 'cat', True] \n",
    "bacon.remove('cat')\n",
    "bacon"
   ]
  },
  {
   "cell_type": "markdown",
   "metadata": {},
   "source": [
    "### Q-9) What are the list concatenation and list replication operators?\n",
    "#### Ans. In list concatenation we use '+' operator and in list replication we use '*' operator."
   ]
  },
  {
   "cell_type": "code",
   "execution_count": 8,
   "metadata": {},
   "outputs": [
    {
     "name": "stdout",
     "output_type": "stream",
     "text": [
      "[1, 2, 3, 4, 5, '-', 4, 3, 2, 1]\n",
      "[1, 2, 3, 4, 5, '-', 1, 2, 3, 4, 5, '-']\n"
     ]
    }
   ],
   "source": [
    "# Q-9 exapmle\n",
    "\n",
    "a = [1,2,3,4,5,'-']\n",
    "b = [4,3,2,1]\n",
    "print(a+b) # concatenation\n",
    "print(a*2)  # replication"
   ]
  },
  {
   "cell_type": "markdown",
   "metadata": {},
   "source": [
    "### Q-10) What is difference between the list methods append() and insert()?\n",
    "#### Ans. Append() methods will add item at last position of the list, and where the insert() method will insert the item at desired position in list. Insert will take two arguments first is index position and second is the value."
   ]
  },
  {
   "cell_type": "code",
   "execution_count": 9,
   "metadata": {},
   "outputs": [
    {
     "data": {
      "text/plain": [
       "[1, 2, 'I', 3, 4, 5, 6, 7]"
      ]
     },
     "execution_count": 9,
     "metadata": {},
     "output_type": "execute_result"
    }
   ],
   "source": [
    "# Q-10 example\n",
    "a = [1,2,3,4,5,6]\n",
    "a.append(7)\n",
    "a.insert(2, 'I')\n",
    "a"
   ]
  },
  {
   "cell_type": "markdown",
   "metadata": {},
   "source": [
    "### Q-11) What are the two methods for removing items from a list?\n",
    "#### Ans. We use remove() or pop() method to remove any item from list. Remove() will remove the desired item from list where pop() will delete the last item from list."
   ]
  },
  {
   "cell_type": "code",
   "execution_count": 10,
   "metadata": {},
   "outputs": [
    {
     "data": {
      "text/plain": [
       "[1, 2, 3, 4, 5, 6, 7, 8, 9]"
      ]
     },
     "execution_count": 10,
     "metadata": {},
     "output_type": "execute_result"
    }
   ],
   "source": [
    "a = [1,2,3,4,55,5,6,7,8,9,'I']\n",
    "a.remove(55)\n",
    "a.pop()\n",
    "a\n"
   ]
  },
  {
   "cell_type": "markdown",
   "metadata": {},
   "source": [
    "### Q-12) Describe how list values and string values are identical.\n",
    "#### Ans. Both are mutable and in loop we called the items from list and string which is known as elements, we can use len() funciton on both which will give us the length of string and list."
   ]
  },
  {
   "cell_type": "markdown",
   "metadata": {},
   "source": [
    "### Q-13) What's the difference between tuples and lists?\n",
    "#### Ans. Tuples are immutable where list is mutable and for tuples we have to use parentheses () to make tuple and in list we use square brakets []."
   ]
  },
  {
   "cell_type": "markdown",
   "metadata": {},
   "source": [
    "### Q-14) How do you type a tuple value that only contains the integer 42?\n",
    "#### Ans. We use parentheses and in parenthesis we use the value and after value we use comma like this (42,)."
   ]
  },
  {
   "cell_type": "markdown",
   "metadata": {},
   "source": [
    "### Q-15) How do you get a list value's tuple form? How do you get a tuple value's list form?\n",
    "#### Ans. We use tuple() function and list() funciton for getting the values in different data types."
   ]
  },
  {
   "cell_type": "markdown",
   "metadata": {},
   "source": [
    "### Q-16) Variables that \"contain\" list values are not necessarily lists themselves. Instead, what do they contain?\n",
    "#### Ans. Refrence of a list. "
   ]
  },
  {
   "cell_type": "markdown",
   "metadata": {},
   "source": [
    "### Q-17) How do you distinguish between copy.copy() and copy.deepcopy()?\n",
    "#### Ans. copy.copy() function will do a shallow copy of a list, where copy.deepcopy() function will do a deep copy of a list."
   ]
  }
 ],
 "metadata": {
  "kernelspec": {
   "display_name": "Python 3",
   "language": "python",
   "name": "python3"
  },
  "language_info": {
   "codemirror_mode": {
    "name": "ipython",
    "version": 3
   },
   "file_extension": ".py",
   "mimetype": "text/x-python",
   "name": "python",
   "nbconvert_exporter": "python",
   "pygments_lexer": "ipython3",
   "version": "3.7.6"
  }
 },
 "nbformat": 4,
 "nbformat_minor": 4
}
