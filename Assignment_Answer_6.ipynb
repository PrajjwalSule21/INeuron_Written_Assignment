{
 "cells": [
  {
   "cell_type": "markdown",
   "metadata": {},
   "source": [
    "### Q-1> What are escape characters, and how do you use them?\n",
    "#### Ans> Escape character or a escape sequence is a special charaters in Python and they are indicated by backslash, with the help of them we can use so many operation's within the string like, going to newline, making a tab, using backslash and so many things.\n",
    "#### some escape characters are:\n",
    "* \\\\ ----------------- Backslash.\n",
    "* \\n ----------------- Newline.\n",
    "* \\r ----------------- Carriage return.\n",
    "* \\t ----------------- Tab.\n",
    "* \\b ----------------- Backspace."
   ]
  },
  {
   "cell_type": "code",
   "execution_count": 1,
   "metadata": {},
   "outputs": [
    {
     "name": "stdout",
     "output_type": "stream",
     "text": [
      "It's iNeuron.\n",
      "-----------------------------------------------------------------------------------------------------\n",
      "This will insert one \\ (backslash).\n",
      "-----------------------------------------------------------------------------------------------------\n",
      "Welcome to \n",
      "iNeuron!.\n",
      "-----------------------------------------------------------------------------------------------------\n",
      "Neuron.\n",
      "-----------------------------------------------------------------------------------------------------\n",
      "i\tNeuron!.\n",
      "-----------------------------------------------------------------------------------------------------\n",
      "i \bNeuron!.\n"
     ]
    }
   ],
   "source": [
    "# \\'\tSingle Quote\n",
    "txt = 'It\\'s iNeuron.'                                # \\'s \n",
    "print(txt) \n",
    "\n",
    "print('-----------------------------------------------------------------------------------------------------')\n",
    "\n",
    "# \\\\\tBackslash\n",
    "txt = \"This will insert one \\\\ (backslash).\"          # \\\\\n",
    "print(txt) \n",
    "\n",
    "print('-----------------------------------------------------------------------------------------------------')\n",
    "\n",
    "# \\n\tNew Line\n",
    "txt = \"Welcome to \\niNeuron!.\"                        # \\n \n",
    "print(txt) \n",
    "\n",
    "print('-----------------------------------------------------------------------------------------------------')\n",
    "\n",
    "# \\r\tCarriage Return\t\n",
    "txt = \"i\\rNeuron.\"                                    # \\r\n",
    "print(txt) \n",
    "\n",
    "print('-----------------------------------------------------------------------------------------------------')\n",
    "\n",
    "# \\t\tTab\n",
    "txt = \"i\\tNeuron!.\"                                   #\\t\n",
    "print(txt) \n",
    "\n",
    "print('-----------------------------------------------------------------------------------------------------')\n",
    "\n",
    "# \\b\tBackspace\n",
    "txt = \"i \\bNeuron!.\"                                  #\\b\n",
    "print(txt) \n"
   ]
  },
  {
   "cell_type": "markdown",
   "metadata": {},
   "source": [
    "### Q-2> What do the escape characters n and t stand for?\n",
    "#### Ans> Escape character n stands for Newline, where t stands for tab."
   ]
  },
  {
   "cell_type": "code",
   "execution_count": 2,
   "metadata": {},
   "outputs": [
    {
     "name": "stdout",
     "output_type": "stream",
     "text": [
      "Welcome to \n",
      "iNeuron!.\n",
      "-----------------------------------------------------------------------------------------------------\n",
      "i\tNeuron!.\n"
     ]
    }
   ],
   "source": [
    "# \\n\tNew Line\n",
    "txt = \"Welcome to \\niNeuron!.\"                       # \\n \n",
    "print(txt)\n",
    "\n",
    "print('-----------------------------------------------------------------------------------------------------')\n",
    "\n",
    "# \\t\tTab\n",
    "txt = \"i\\tNeuron!.\"                                   #\\t\n",
    "print(txt)"
   ]
  },
  {
   "cell_type": "markdown",
   "metadata": {},
   "source": [
    "### Q-3> What is the way to include backslash characters in a string?\n",
    "#### Ans> For inserting a backslash in a string, we have to use double backslash (\\\\) at that place."
   ]
  },
  {
   "cell_type": "code",
   "execution_count": 3,
   "metadata": {},
   "outputs": [
    {
     "name": "stdout",
     "output_type": "stream",
     "text": [
      "This will insert a \\ (backslash).\n"
     ]
    }
   ],
   "source": [
    "txt = \"This will insert a \\\\ (backslash).\"          # \\\\\n",
    "print(txt)"
   ]
  },
  {
   "cell_type": "markdown",
   "metadata": {},
   "source": [
    "### Q-4> The string \"Howl's Moving Castle\" is a correct value. Why isn't the single quote character in the word Howl's not escaped a problem?\n",
    "##### Ans> Without using any escape character we can use single quote in a double quote (\" '  ' \") or double quote in a single quote (' \" \" '), and that the resone why this string don't encounter any error. "
   ]
  },
  {
   "cell_type": "markdown",
   "metadata": {},
   "source": [
    "### Q-5> How do you write a string of newlines if you don't want to use the n character?\n",
    "#### Ans> For write a newline without escape character in Python, We can use \"\"\" \"\"\" triple quote instead of that n."
   ]
  },
  {
   "cell_type": "code",
   "execution_count": 4,
   "metadata": {},
   "outputs": [
    {
     "data": {
      "text/plain": [
       "' My name is xyz\\n I am a student of full stack data science program\\n I have a Btech in Computer Science '"
      ]
     },
     "execution_count": 4,
     "metadata": {},
     "output_type": "execute_result"
    }
   ],
   "source": [
    "\"\"\" My name is xyz\n",
    " I am a student of full stack data science program\n",
    " I have a Btech in Computer Science \"\"\""
   ]
  },
  {
   "cell_type": "markdown",
   "metadata": {},
   "source": [
    "### Q-6> What are the values of the given expressions?\n",
    "* 'Hello, world!'[1]\n",
    "* 'Hello, world!'[0:5]\n",
    "* 'Hello, world!'[:5]\n",
    "* 'Hello, world!'[3:]\n",
    "#### Ans> \n",
    "* 'e' -----------> gives only one character which is in 1 position.\n",
    "* 'Hello' -------> gives the 5 character which are on 0 - 4 position.\n",
    "* 'Hello' -------> gives the 5 character which are on 0 - 4 position.\n",
    "* 'lo, world!' --> gives the characters which is start from 3 position upto last postion."
   ]
  },
  {
   "cell_type": "markdown",
   "metadata": {},
   "source": [
    "### Q-7> What are the values of the following expressions?\n",
    "* 'Hello'.upper()\n",
    "* 'Hello'.upper().isupper()\n",
    "* 'Hello'.upper().lower()\n",
    "#### Ans>\n",
    "* 'HELLO' ----------------> It will make all the characters in upper case.\n",
    "* True ------> It will give the Boolean value because first it will make all characters in upper case than check the string is in upper case or not.\n",
    "* 'hello'   ------> It will make all the characters in lowe case. First it will convert in upper case and than it will convert in lower case"
   ]
  },
  {
   "cell_type": "markdown",
   "metadata": {},
   "source": [
    "### Q-8> What are the values of the following expressions?\n",
    "'Remember, remember, the fifth of July.'.split()\n",
    "'-'.join('There can only one.'.split())\n",
    "\n",
    "#### Ans>\n",
    "* ['Remember,', 'remember,', 'the', 'fifth', 'of', 'July.'] ---> When the space is encounter it will split the string and make it a list of strings.\n",
    "* 'There-can-only-one.' ---------------------------------------> When the space is encounter it will remove that space with the '-' and make a string having '-' in between them."
   ]
  },
  {
   "cell_type": "markdown",
   "metadata": {},
   "source": [
    "### Q-9> What are the methods for right-justifying, left-justifying, and centering a string?\n",
    "#### Ans> \n",
    "* right-justifying will right aligns the string according to the width specified and fills remaining space of line with blank space if argument is not passed, for right justifying we use rjust().\n",
    "* left-justifying will left aligns the string according to the width specified and fills remaining space of line with blank space if argument is not passed, for left justifying we use ljust().\n",
    "* center aligns the string according to the width specified and fills remaining space of line with blank space if the argument is not passed, for centering we use center()."
   ]
  },
  {
   "cell_type": "code",
   "execution_count": 5,
   "metadata": {},
   "outputs": [
    {
     "name": "stdout",
     "output_type": "stream",
     "text": [
      "-----------------------------I am a Data Scientist\n",
      "I am a Data Scientist-----------------------------\n",
      "--------------I am a Data Scientist---------------\n"
     ]
    }
   ],
   "source": [
    "txt = 'I am a Data Scientist'\n",
    "print(txt.rjust(50,'-'))  # rjust for right-justifying.\n",
    "print(txt.ljust(50,'-'))  # ljust for left-justifying.\n",
    "print(txt.center(50,'-')) # center for centering the string."
   ]
  },
  {
   "cell_type": "markdown",
   "metadata": {},
   "source": [
    "### Q-10> What is the best way to remove whitespace characters from the start or end?\n",
    "#### Ans> The best to remove all the white space is to use the strip() method, this method removes all the whitespaces of a string.\n",
    "There is a specific methods to like for removing the whitespaces of left side we can use lstrip() as we well for right side we can use rstrip()."
   ]
  },
  {
   "cell_type": "code",
   "execution_count": 6,
   "metadata": {},
   "outputs": [],
   "source": [
    "text = \"        Hello World!        \"                           "
   ]
  },
  {
   "cell_type": "code",
   "execution_count": 7,
   "metadata": {},
   "outputs": [
    {
     "name": "stdout",
     "output_type": "stream",
     "text": [
      "Before Strip methods:          Hello World!         ----------\n",
      "Applying lstrip:  Hello World!         ----------\n",
      "Applying rstip:          Hello World! ----------\n",
      "Applying strip:  Hello World! ----------\n"
     ]
    }
   ],
   "source": [
    "# This '----------' is just for checking purpose.\n",
    "\n",
    "print('Before Strip methods: ', text,  '----------')\n",
    "print('Applying lstrip: ', text.lstrip(), '----------')\n",
    "print('Applying rstip: ', text.rstrip(), '----------')\n",
    "print('Applying strip: ', text.strip(), '----------')"
   ]
  },
  {
   "cell_type": "code",
   "execution_count": null,
   "metadata": {},
   "outputs": [],
   "source": []
  }
 ],
 "metadata": {
  "kernelspec": {
   "display_name": "Python 3",
   "language": "python",
   "name": "python3"
  },
  "language_info": {
   "codemirror_mode": {
    "name": "ipython",
    "version": 3
   },
   "file_extension": ".py",
   "mimetype": "text/x-python",
   "name": "python",
   "nbconvert_exporter": "python",
   "pygments_lexer": "ipython3",
   "version": "3.7.6"
  }
 },
 "nbformat": 4,
 "nbformat_minor": 4
}
